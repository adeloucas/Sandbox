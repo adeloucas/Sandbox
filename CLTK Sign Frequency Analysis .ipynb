{
 "cells": [
  {
   "cell_type": "code",
   "execution_count": 1,
   "metadata": {},
   "outputs": [],
   "source": [
    "import cltk\n",
    "import os\n",
    "\n",
    "from cltk.corpus.utils.importer import CorpusImporter\n",
    "from collections import Counter\n",
    "from cltk.corpus.akkadian.file_importer import FileImport\n",
    "from cltk.corpus.akkadian.cdli_corpus import CDLICorpus\n",
    "from cltk.corpus.akkadian.tokenizer import Tokenizer\n",
    "from cltk.stem.akkadian.atf_converter import ATFConverter\n",
    "from cltk.tokenize.word import WordTokenizer"
   ]
  },
  {
   "cell_type": "code",
   "execution_count": 2,
   "metadata": {},
   "outputs": [
    {
     "data": {
      "text/plain": [
       "True"
      ]
     },
     "execution_count": 2,
     "metadata": {},
     "output_type": "execute_result"
    }
   ],
   "source": [
    "# Set up and confirm location of CDLI corpus \n",
    "\n",
    "Akkadian = CorpusImporter('akkadian')\n",
    "Akkadian.import_corpus('cdli_corpus')\n",
    "file = os.path.join('cltk_data', 'akkadian', 'atf', 'cdli_corpus', 'cdliatf_unblocked.atf')\n",
    "os.path.isfile(file)"
   ]
  },
  {
   "cell_type": "code",
   "execution_count": 3,
   "metadata": {},
   "outputs": [],
   "source": [
    "# Load corpus\n",
    "\n",
    "fi = FileImport(file)\n",
    "cc = CDLICorpus()\n",
    "\n",
    "fi.read_file()\n",
    "cc.parse_file(fi.file_lines)"
   ]
  },
  {
   "cell_type": "code",
   "execution_count": 4,
   "metadata": {},
   "outputs": [],
   "source": [
    "# Select your text, here I've chosen the Taylor Prism (RINAP 3.1.22)\n",
    "\n",
    "selected_text = cc.catalog['P462830']['transliteration']\n",
    "# print(selected_text)"
   ]
  },
  {
   "cell_type": "code",
   "execution_count": 5,
   "metadata": {},
   "outputs": [
    {
     "name": "stdout",
     "output_type": "stream",
     "text": [
      "[(('a', 'akkadian'), 276), (('na', 'akkadian'), 258), (('ma', 'akkadian'), 196), (('meš', 'sumerian'), 187), (('ti', 'akkadian'), 171), (('u2', 'akkadian'), 144), (('i', 'akkadian'), 128), (('iri', 'determinative'), 113), (('la', 'akkadian'), 107), (('nu', 'akkadian'), 98), (('ri', 'akkadian'), 92), (('e', 'akkadian'), 92), (('ša', 'akkadian'), 87), (('šu2', 'akkadian'), 82), (('ni', 'akkadian'), 80)]\n"
     ]
    }
   ],
   "source": [
    "# This is a frequency analysis that looks at every sign value in the entirety of the selected text.\n",
    "# Each sign retains the reading value given by CDLI (i.e. {x} = determinative, _x_ = sumerian, x = akkadian)\n",
    "# Thus, each sign separates values of different usage (e.g. ('ma', 'sumerian') =/= ('ma', 'akkadian'))\n",
    "\n",
    "toto_signs = []\n",
    "\n",
    "atf = ATFConverter()\n",
    "tk = Tokenizer()\n",
    "wtk = WordTokenizer('akkadian')\n",
    "lines = [tk.string_tokenizer(text, include_blanks=False)\n",
    "        for text in atf.process(selected_text)]\n",
    "words = [wtk.tokenize(line[0]) for line in lines]\n",
    "\n",
    "for signs in words:\n",
    "    individual_words = [wtk.tokenize_sign(a) for a in signs]\n",
    "    individual_signs = [c for b in individual_words for c in b]\n",
    "    for count in individual_signs:\n",
    "        toto_signs.append(count)\n",
    "\n",
    "frequency_analysis = Counter(toto_signs).most_common(15)\n",
    "print(frequency_analysis)"
   ]
  }
 ],
 "metadata": {
  "kernelspec": {
   "display_name": "Python 3",
   "language": "python",
   "name": "python3"
  },
  "language_info": {
   "codemirror_mode": {
    "name": "ipython",
    "version": 3
   },
   "file_extension": ".py",
   "mimetype": "text/x-python",
   "name": "python",
   "nbconvert_exporter": "python",
   "pygments_lexer": "ipython3",
   "version": "3.6.5"
  }
 },
 "nbformat": 4,
 "nbformat_minor": 2
}
